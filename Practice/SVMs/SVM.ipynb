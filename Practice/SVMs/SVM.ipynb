{
 "cells": [
  {
   "cell_type": "markdown",
   "metadata": {},
   "source": [
    "This notebook is part of the [Machine Learning class](https://github.com/erachelson/MLclass) by [Emmanuel Rachelson](https://personnel.isae-supaero.fr/emmanuel-rachelson?lang=en).\n",
    "\n",
    "This notebook is joint work by Luca Mossina, Erwan Lecarpentier and Emmanuel Rachelson.\n",
    "\n",
    "License: CC-BY-SA-NC."
   ]
  },
  {
   "cell_type": "markdown",
   "metadata": {},
   "source": [
    "<div style=\"font-size:22pt; line-height:25pt; font-weight:bold; text-align:center;\">SVMs (practice session)</div>"
   ]
  },
  {
   "cell_type": "markdown",
   "metadata": {},
   "source": [
    "# Introduction\n",
    "\n",
    "SVMs is a classical Supervized Learning technique.\n",
    "\n",
    "TODO blabla\n",
    "\n",
    "Content:\n",
    "1. [Linear SVMs](#sec1)<br>\n",
    "1.1 [Let's play](#subsec11)<br>\n",
    "1.2 [Tune your linear SVM](#subsec12)\n",
    "2. [SVM with kernels](#sec2)<br>\n",
    "2.1 [Warm-up: Americans and Atheism  (OPTIONAL)](#subsec21)<br>\n",
    "2.2 [Back to basics](#subsec22)<br>\n",
    "2.3 [Kernels](#subsec23)\n",
    "3. [Application](#sec3)"
   ]
  },
  {
   "cell_type": "markdown",
   "metadata": {},
   "source": [
    "# <a id=\"sec1\"></a> 1. Linear SVMs\n",
    "\n",
    "The goal of this section is to explore the most basic form of SVM, namely the linear one. We are going to test this method on toy data set and to play with the hyperparameters in order to get the best classifier."
   ]
  },
  {
   "cell_type": "markdown",
   "metadata": {},
   "source": [
    "<div class=\"alert alert-warning\">**Question 1.1**<br>\n",
    "What is the objective of SVMs?<br>\n",
    "On which principle is it built? Give a geometrical interpretation.\n",
    "</div>"
   ]
  },
  {
   "cell_type": "markdown",
   "metadata": {},
   "source": [
    "Your answer :"
   ]
  },
  {
   "cell_type": "markdown",
   "metadata": {},
   "source": [
    "## <a id=\"subsec11\"></a> 1.1 Let's play"
   ]
  },
  {
   "cell_type": "markdown",
   "metadata": {},
   "source": [
    "Let's take a toy data set $\\{ {x_i, y_i} \\}_{i=1}^n$ where $x_i \\in \\mathbb{R}^2$ is a point and $y_i \\in [-1, 1]$ a label.<br>\n",
    "The code below allows you to load the data and to display it."
   ]
  },
  {
   "cell_type": "code",
   "execution_count": 170,
   "metadata": {},
   "outputs": [
    {
     "data": {
      "image/png": "[encoded data removed]",
      "text/plain": [
       "<Figure size 800x800 with 1 Axes>"
      ]
     },
     "metadata": {},
     "output_type": "display_data"
    }
   ],
   "source": [
    "import numpy as np\n",
    "%matplotlib inline\n",
    "import matplotlib.pyplot as plt\n",
    "\n",
    "def plot_data(name):\n",
    "    fig_size=(10, 10)\n",
    "    res = np.loadtxt(name, delimiter=',')\n",
    "    X = res[:,0:-1]\n",
    "    y = res[:,-1].astype(int)\n",
    "    Xblue = X[y==-1]\n",
    "    Xred = X[y==1]\n",
    "    fig=plt.figure(figsize=fig_size, dpi= 80, facecolor='w', edgecolor='k')\n",
    "    plt.scatter(Xblue[:,0],Xblue[:,1],c='b',s=20)\n",
    "    plt.scatter(Xred[:,0],Xred[:,1],c='r',s=20)\n",
    "\n",
    "plot_data(\"data1.csv\")"
   ]
  },
  {
   "cell_type": "markdown",
   "metadata": {},
   "source": [
    "<div class=\"alert alert-warning\">**Question 1.2**<br>\n",
    "Can this data set be separated by a straight line?<br>\n",
    "What kind of technique could be used to train a classifier on this data set?\n",
    "</div>"
   ]
  },
  {
   "cell_type": "markdown",
   "metadata": {},
   "source": [
    "Your answer:"
   ]
  },
  {
   "cell_type": "markdown",
   "metadata": {},
   "source": [
    "Let's apply the SVM method to this dataset. To this purpose, we are going to use scikit-learn, a Python library providing most of the common Machine Learning off the shelf methods including SVM. Their documentation page for this method can be found here: http://scikit-learn.org/stable/modules/svm.html"
   ]
  },
  {
   "cell_type": "markdown",
   "metadata": {},
   "source": [
    "<div class=\"alert alert-warning\">**Question 1.3**<br>\n",
    "Use the class sklearn.svm.SVC provided in scikit-learn in order to train an SVM on the provided data.\n",
    "</div>"
   ]
  },
  {
   "cell_type": "code",
   "execution_count": 138,
   "metadata": {},
   "outputs": [],
   "source": [
    "### WRITE YOUR CODE HERE\n",
    "\n",
    "#%load solutions/code1.py\n",
    "# If you get stuck, uncomment the line above to load a correction in this cell (then you can execute this code)."
   ]
  },
  {
   "cell_type": "markdown",
   "metadata": {},
   "source": [
    "<div class=\"alert alert-warning\">**Question 1.4**<br>\n",
    "In \"Support Vector Machine\", what are the \"support vectors\"?\n",
    "</div>"
   ]
  },
  {
   "cell_type": "markdown",
   "metadata": {},
   "source": [
    "Your answer :"
   ]
  },
  {
   "cell_type": "markdown",
   "metadata": {},
   "source": [
    "## <a id=\"subsec12\"></a> 1.2 Tune your linear SVM"
   ]
  },
  {
   "cell_type": "markdown",
   "metadata": {},
   "source": [
    "One of the parameters of the class sklearn.svm.SVC is the penalty parameter $C$ of the error term. It quantifies the missmatch-tolerance that is allowed when fitting an SVM model to the data. The smaller, the bigger is the tolerance. In our case, having such a tolerance is necessary because the data cannot be separated by a straight line, thus some point have to be on the wrong side of the separating hyperplan.\n",
    "\n",
    "$C$ is an hyperparameter, which means that it needs to be tuned for the algorithm to yield good results. This is a common concern in Machine Learning, as a result, techniques have been designed in order to select the best hyperparameters. The most common technique is probably the cross validation. Roughly it consists in:\n",
    "\n",
    "    0) dividing the data set into training and test sets;\n",
    "\n",
    "    1) selecting a value of the hyperparameters;\n",
    "\n",
    "    2) train the model with the training set;\n",
    "\n",
    "    3) test the model with the test set and compute a performance indicator;\n",
    "\n",
    "    4) go back to 1) with another value of the hyperparameters.\n",
    "\n",
    "When the procedure is finished, simply choose the hyperparameters yielding the best performance. We are now going to perform k-fold cross validation - which is a certain type of cross validation - on our problem, in order to identify the best value of $C$.\n",
    "For more details, see the wikipedia article: https://en.wikipedia.org/wiki/Cross-validation_(statistics)#k-fold_cross-validation\n",
    "\n",
    "For more details on the type of indicators used in step 3), see https://en.wikipedia.org/wiki/Evaluation_of_binary_classifiers<br>\n",
    "The accuracy, refered to as ACC in the article, may be a good start."
   ]
  },
  {
   "cell_type": "markdown",
   "metadata": {},
   "source": [
    "<div class=\"alert alert-warning\">**Question 1.5**<br>\n",
    "Fill the code below in order to find the best value of the hyperparameter $C$.\n",
    "</div>"
   ]
  },
  {
   "cell_type": "code",
   "execution_count": 141,
   "metadata": {},
   "outputs": [],
   "source": [
    "C = [0.001, 0.01, 0.1, 1.0, 10, 42, 100, 1000] # Tested values of C\n",
    "k = 10 # k-fold CV: number of subsets\n",
    "n = int(len(X)/k) # length subsets\n",
    "\n",
    "### WRITE YOUR CODE HERE\n",
    "\n",
    "#%load solutions/code2.py\n",
    "# If you get stuck, uncomment the line above to load a correction in this cell (then you can execute this code)."
   ]
  },
  {
   "cell_type": "markdown",
   "metadata": {},
   "source": [
    "<div class=\"alert alert-warning\">**Question 1.6**<br>\n",
    "What is the best value of $C$ among the proposed ones?\n",
    "</div>"
   ]
  },
  {
   "cell_type": "markdown",
   "metadata": {},
   "source": [
    "Your answer :"
   ]
  },
  {
   "cell_type": "markdown",
   "metadata": {},
   "source": [
    "# <a id=\"sec2\"></a> 2. SVMs with kernels"
   ]
  },
  {
   "cell_type": "code",
   "execution_count": 173,
   "metadata": {
    "collapsed": true
   },
   "outputs": [],
   "source": [
    "# === imports\n",
    "import pandas as pd\n",
    "import numpy as np\n",
    "import sklearn\n",
    "import matplotlib.pyplot as plt\n",
    "import copy\n",
    "\n",
    "%load_ext autoreload\n",
    "%autoreload 2"
   ]
  },
  {
   "cell_type": "markdown",
   "metadata": {},
   "source": [
    "## Binary Classification"
   ]
  },
  {
   "cell_type": "markdown",
   "metadata": {},
   "source": [
    "The natural application of SVM methods is that of binary classification."
   ]
  },
  {
   "cell_type": "markdown",
   "metadata": {},
   "source": [
    "## <a id=\"subsec21\"></a> 2.1 Warm-up: Americans and Atheism  (OPTIONAL)\n",
    "\n",
    "**SCOPE**: warm-up, revise and challenge yourself with a simple example.\n",
    "    - MAXIMUM TIME: 10 minutes, afterwards look at the proposed hints\n",
    "\n",
    "Let us find out how americans tolerated atheists in 1976.\n",
    "The dataset is described as follows:\n",
    "\n",
    "```\n",
    "Dataset:  atheist.dat\n",
    "Source: E. Filsinger (1976). \"Tolerance of Non-Believers: A Cross-Tabular  and Log Linear Analysis of Some Religious Correlates,\" Review of Religious  Research, Vol.17, #3, pp.232-240\n",
    "Description: Church Attendance and Tolerance for Atheists for survey of 1221 people.\n",
    "\n",
    "Variables/Columns \n",
    "Church Attendance  8  /* 1=Never, 2=Yearly, 3=Monthly, 4=Weekly */\n",
    "Tolerance for Atheists  16 /* 1=Low, 2=High  */\n",
    "```"
   ]
  },
  {
   "cell_type": "markdown",
   "metadata": {},
   "source": [
    "#### 2.1.1 Retrieve and understand data\n",
    "\n",
    "The file is available online at: http://users.stat.ufl.edu/~winner/datasets.html  \n",
    "\n",
    " - Find the corresponding file\n",
    " - save it in the 'data' directory\n",
    " - import it as a pandas dataframe. No cheating, it can be done with a pandas function.\n",
    " \n",
    "Your dataframe should have 1221 rows and 2 columns, which you'll name respectively 'attendance', 'tolerance'."
   ]
  },
  {
   "cell_type": "code",
   "execution_count": 175,
   "metadata": {
    "code_folding": []
   },
   "outputs": [],
   "source": [
    "# === Solution\n",
    "data_file = 'data/atheist.dat'\n",
    "df = pd.read_csv(data_file, sep='\\s+',\n",
    "                 header=None,\n",
    "                 names=['attendance', 'tolerance'])\n",
    "\n",
    "print(df.shape, \"# <-- (nrow, ncols)\", \"\\n\")\n",
    "print(df.sample(5)) # print random rows"
   ]
  },
  {
   "cell_type": "code",
   "execution_count": 20,
   "metadata": {
    "scrolled": false
   },
   "outputs": [
    {
     "data": {
      "text/plain": [
       "<matplotlib.collections.PathCollection at 0x7f8d493cbe48>"
      ]
     },
     "execution_count": 20,
     "metadata": {},
     "output_type": "execute_result"
    },
    {
     "data": {
      "image/png": "[encoded data removed]",
      "text/plain": [
       "<Figure size 432x288 with 1 Axes>"
      ]
     },
     "metadata": {},
     "output_type": "display_data"
    }
   ],
   "source": [
    "import matplotlib.pyplot as plt\n",
    "plt.scatter(df['attendance'], df['tolerance'])\n",
    "plt.scatter(df['attendance'], df['tolerance'])"
   ]
  },
  {
   "cell_type": "markdown",
   "metadata": {},
   "source": [
    "It doesn't look like the fancy figures we saw in class, does it?"
   ]
  },
  {
   "cell_type": "markdown",
   "metadata": {},
   "source": [
    "#### 2.1.2 run SVM. Does it makes sense?"
   ]
  },
  {
   "cell_type": "markdown",
   "metadata": {},
   "source": [
    "First of all, what can we learn having a strong look at the data and their description?  \n",
    "Do we have categorical, binary, continuous data?\n",
    "\n",
    "These are fundamental questions, which you'll ask yourselves for the rest of your (data science) life.\n",
    "Often, collegues or clients have no idea about these formalities; they have a problem and they ask you to provide a good enough solution."
   ]
  },
  {
   "cell_type": "markdown",
   "metadata": {},
   "source": [
    "*Answer* : it looks like we could consider them as continuous. However, they were recorded on a step scale. [...]"
   ]
  },
  {
   "cell_type": "markdown",
   "metadata": {},
   "source": [
    "Let the fun begin. We want to do SVM classification with scikit-learn, but we know nothing about its api's!  \n",
    "Thou shalt fear no more, the word of the Doc is with us:\n",
    "http://scikit-learn.org/stable/modules/classes.html#module-sklearn.svm\n",
    "\n",
    "We are doing SVM classification, could it be: http://scikit-learn.org/stable/modules/generated/sklearn.svm.SVC.html#sklearn.svm.SVC ?\n",
    "Let us copy-paste the example at the bottom of the page. Run the following:"
   ]
  },
  {
   "cell_type": "code",
   "execution_count": 21,
   "metadata": {},
   "outputs": [
    {
     "ename": "NameError",
     "evalue": "name 'X' is not defined",
     "output_type": "error",
     "traceback": [
      "\u001b[0;31m---------------------------------------------------------------------------\u001b[0m",
      "\u001b[0;31mNameError\u001b[0m                                 Traceback (most recent call last)",
      "\u001b[0;32m<ipython-input-21-4b6128127ae2>\u001b[0m in \u001b[0;36m<module>\u001b[0;34m()\u001b[0m\n\u001b[1;32m      1\u001b[0m \u001b[0;32mfrom\u001b[0m \u001b[0msklearn\u001b[0m\u001b[0;34m.\u001b[0m\u001b[0msvm\u001b[0m \u001b[0;32mimport\u001b[0m \u001b[0mSVC\u001b[0m\u001b[0;34m\u001b[0m\u001b[0m\n\u001b[1;32m      2\u001b[0m \u001b[0mclf\u001b[0m \u001b[0;34m=\u001b[0m \u001b[0mSVC\u001b[0m\u001b[0;34m(\u001b[0m\u001b[0mgamma\u001b[0m\u001b[0;34m=\u001b[0m\u001b[0;34m'auto'\u001b[0m\u001b[0;34m)\u001b[0m\u001b[0;34m\u001b[0m\u001b[0m\n\u001b[0;32m----> 3\u001b[0;31m \u001b[0mclf\u001b[0m\u001b[0;34m.\u001b[0m\u001b[0mfit\u001b[0m\u001b[0;34m(\u001b[0m\u001b[0mX\u001b[0m\u001b[0;34m,\u001b[0m \u001b[0my\u001b[0m\u001b[0;34m)\u001b[0m\u001b[0;34m\u001b[0m\u001b[0m\n\u001b[0m",
      "\u001b[0;31mNameError\u001b[0m: name 'X' is not defined"
     ]
    }
   ],
   "source": [
    "from sklearn.svm import SVC\n",
    "clf = SVC(gamma='auto')\n",
    "clf.fit(X, y)"
   ]
  },
  {
   "cell_type": "markdown",
   "metadata": {},
   "source": [
    "Of course, ```'X' is not defined```.   \n",
    "Let us take a moment to ponder on how to name things.  \n",
    "For sure, \"x\" and \"y\" mean something to all those with scientific background.  \n",
    "Often, however, when we do some ML modeling, we are having a data-dialogue with someone, ourselves included.  \n",
    "Do the favor to the \"you\" of the future and use a meaningful description for the variables; code is mostly meant to be read."
   ]
  },
  {
   "cell_type": "code",
   "execution_count": 31,
   "metadata": {},
   "outputs": [
    {
     "ename": "ValueError",
     "evalue": "Expected 2D array, got 1D array instead:\narray=[666. 666.   1. ...   4.   4.   4.].\nReshape your data either using array.reshape(-1, 1) if your data has a single feature or array.reshape(1, -1) if it contains a single sample.",
     "output_type": "error",
     "traceback": [
      "\u001b[0;31m---------------------------------------------------------------------------\u001b[0m",
      "\u001b[0;31mValueError\u001b[0m                                Traceback (most recent call last)",
      "\u001b[0;32m<ipython-input-31-e213907b0d77>\u001b[0m in \u001b[0;36m<module>\u001b[0;34m()\u001b[0m\n\u001b[1;32m     13\u001b[0m \u001b[0;34m\u001b[0m\u001b[0m\n\u001b[1;32m     14\u001b[0m clf.fit(X = attend,\n\u001b[0;32m---> 15\u001b[0;31m         y = toler) \n\u001b[0m",
      "\u001b[0;32m~/envs/pycplex/lib/python3.6/site-packages/sklearn/svm/base.py\u001b[0m in \u001b[0;36mfit\u001b[0;34m(self, X, y, sample_weight)\u001b[0m\n\u001b[1;32m    147\u001b[0m         \u001b[0mself\u001b[0m\u001b[0;34m.\u001b[0m\u001b[0m_sparse\u001b[0m \u001b[0;34m=\u001b[0m \u001b[0msparse\u001b[0m \u001b[0;32mand\u001b[0m \u001b[0;32mnot\u001b[0m \u001b[0mcallable\u001b[0m\u001b[0;34m(\u001b[0m\u001b[0mself\u001b[0m\u001b[0;34m.\u001b[0m\u001b[0mkernel\u001b[0m\u001b[0;34m)\u001b[0m\u001b[0;34m\u001b[0m\u001b[0m\n\u001b[1;32m    148\u001b[0m \u001b[0;34m\u001b[0m\u001b[0m\n\u001b[0;32m--> 149\u001b[0;31m         \u001b[0mX\u001b[0m\u001b[0;34m,\u001b[0m \u001b[0my\u001b[0m \u001b[0;34m=\u001b[0m \u001b[0mcheck_X_y\u001b[0m\u001b[0;34m(\u001b[0m\u001b[0mX\u001b[0m\u001b[0;34m,\u001b[0m \u001b[0my\u001b[0m\u001b[0;34m,\u001b[0m \u001b[0mdtype\u001b[0m\u001b[0;34m=\u001b[0m\u001b[0mnp\u001b[0m\u001b[0;34m.\u001b[0m\u001b[0mfloat64\u001b[0m\u001b[0;34m,\u001b[0m \u001b[0morder\u001b[0m\u001b[0;34m=\u001b[0m\u001b[0;34m'C'\u001b[0m\u001b[0;34m,\u001b[0m \u001b[0maccept_sparse\u001b[0m\u001b[0;34m=\u001b[0m\u001b[0;34m'csr'\u001b[0m\u001b[0;34m)\u001b[0m\u001b[0;34m\u001b[0m\u001b[0m\n\u001b[0m\u001b[1;32m    150\u001b[0m         \u001b[0my\u001b[0m \u001b[0;34m=\u001b[0m \u001b[0mself\u001b[0m\u001b[0;34m.\u001b[0m\u001b[0m_validate_targets\u001b[0m\u001b[0;34m(\u001b[0m\u001b[0my\u001b[0m\u001b[0;34m)\u001b[0m\u001b[0;34m\u001b[0m\u001b[0m\n\u001b[1;32m    151\u001b[0m \u001b[0;34m\u001b[0m\u001b[0m\n",
      "\u001b[0;32m~/envs/pycplex/lib/python3.6/site-packages/sklearn/utils/validation.py\u001b[0m in \u001b[0;36mcheck_X_y\u001b[0;34m(X, y, accept_sparse, dtype, order, copy, force_all_finite, ensure_2d, allow_nd, multi_output, ensure_min_samples, ensure_min_features, y_numeric, warn_on_dtype, estimator)\u001b[0m\n\u001b[1;32m    571\u001b[0m     X = check_array(X, accept_sparse, dtype, order, copy, force_all_finite,\n\u001b[1;32m    572\u001b[0m                     \u001b[0mensure_2d\u001b[0m\u001b[0;34m,\u001b[0m \u001b[0mallow_nd\u001b[0m\u001b[0;34m,\u001b[0m \u001b[0mensure_min_samples\u001b[0m\u001b[0;34m,\u001b[0m\u001b[0;34m\u001b[0m\u001b[0m\n\u001b[0;32m--> 573\u001b[0;31m                     ensure_min_features, warn_on_dtype, estimator)\n\u001b[0m\u001b[1;32m    574\u001b[0m     \u001b[0;32mif\u001b[0m \u001b[0mmulti_output\u001b[0m\u001b[0;34m:\u001b[0m\u001b[0;34m\u001b[0m\u001b[0m\n\u001b[1;32m    575\u001b[0m         y = check_array(y, 'csr', force_all_finite=True, ensure_2d=False,\n",
      "\u001b[0;32m~/envs/pycplex/lib/python3.6/site-packages/sklearn/utils/validation.py\u001b[0m in \u001b[0;36mcheck_array\u001b[0;34m(array, accept_sparse, dtype, order, copy, force_all_finite, ensure_2d, allow_nd, ensure_min_samples, ensure_min_features, warn_on_dtype, estimator)\u001b[0m\n\u001b[1;32m    439\u001b[0m                     \u001b[0;34m\"Reshape your data either using array.reshape(-1, 1) if \"\u001b[0m\u001b[0;34m\u001b[0m\u001b[0m\n\u001b[1;32m    440\u001b[0m                     \u001b[0;34m\"your data has a single feature or array.reshape(1, -1) \"\u001b[0m\u001b[0;34m\u001b[0m\u001b[0m\n\u001b[0;32m--> 441\u001b[0;31m                     \"if it contains a single sample.\".format(array))\n\u001b[0m\u001b[1;32m    442\u001b[0m             \u001b[0marray\u001b[0m \u001b[0;34m=\u001b[0m \u001b[0mnp\u001b[0m\u001b[0;34m.\u001b[0m\u001b[0matleast_2d\u001b[0m\u001b[0;34m(\u001b[0m\u001b[0marray\u001b[0m\u001b[0;34m)\u001b[0m\u001b[0;34m\u001b[0m\u001b[0m\n\u001b[1;32m    443\u001b[0m             \u001b[0;31m# To ensure that array flags are maintained\u001b[0m\u001b[0;34m\u001b[0m\u001b[0;34m\u001b[0m\u001b[0m\n",
      "\u001b[0;31mValueError\u001b[0m: Expected 2D array, got 1D array instead:\narray=[666. 666.   1. ...   4.   4.   4.].\nReshape your data either using array.reshape(-1, 1) if your data has a single feature or array.reshape(1, -1) if it contains a single sample."
     ]
    }
   ],
   "source": [
    "attend = df['attendance'] # WARNING: you are passing a reference.\n",
    "toler = df['tolerance']\n",
    "\n",
    "# # See how dangerous things can get:\n",
    "# print(attend[0:2])\n",
    "# attend[0:2] = 666, 666\n",
    "# print(df.iloc[0:2]) # original df is modified\n",
    "# # alternatives:\n",
    "# # import copy\n",
    "# # attend = copy.deepcopy(df['attendance'])\n",
    "# # all data is hard copied in new struct:\n",
    "# # can be a problem, if data is bi\n",
    "\n",
    "clf.fit(X = attend,\n",
    "        y = toler) "
   ]
  },
  {
   "cell_type": "markdown",
   "metadata": {},
   "source": [
    "Something just went horribly wrong.  \n",
    "He's telling us something about ```\"Expected 2D array, got 1D array instead: [...]\"```  \n",
    "After some intense googling, stackoverflow.com gives us a hint:  \n",
    "https://stackoverflow.com/questions/38657138/scikits-learn-svm-1-dimensional-separating-hyperplane\n",
    "\n",
    "Let us add a dummy column of zeros:"
   ]
  },
  {
   "cell_type": "code",
   "execution_count": 82,
   "metadata": {},
   "outputs": [
    {
     "name": "stdout",
     "output_type": "stream",
     "text": [
      "     attendance  tolerance  zeros\n",
      "82            1          2      0\n",
      "249           2          2      0\n",
      "180           2          2      0\n",
      "833           3          1      0\n",
      "567           2          1      0\n",
      "error rate: 0.37292161520190026\n"
     ]
    }
   ],
   "source": [
    "df['zeros'] = 0 # dummy zeros\n",
    "\n",
    "df  = df.sample(frac=1) # shuffle rows to avoid introducing bias\n",
    "print(df.iloc[0:5,])\n",
    "\n",
    "NTRAINS = 800 # out of 1221\n",
    "\n",
    "tr = df.iloc[0:NTRAINS,:]\n",
    "te = df.iloc[NTRAINS:,:]\n",
    "\n",
    "# assert: make sure now rows were lost or doubled\n",
    "assert tr.shape[0] + te.shape[0] == df.shape[0]\n",
    "\n",
    "features = ['attendance', 'zeros']\n",
    "attend = df[features]\n",
    "toler  = df['tolerance']\n",
    "\n",
    "from sklearn.svm import LinearSVC\n",
    "clf = LinearSVC(random_state=0, tol=1e-5) # linear\n",
    "\n",
    "clf.fit(X=attend[0:NTRAINS], y=toler[0:NTRAINS]) \n",
    "\n",
    "y_pred = clf.predict(attend[NTRAINS:])\n",
    "y_test = toler[NTRAINS:].tolist()\n",
    "\n",
    "errors = np.zeros(len(y_pred))\n",
    "\n",
    "for i in range(len(errors)):\n",
    "    if y_pred[i] != y_test[i]:\n",
    "        errors[i] = 1\n",
    "        \n",
    "er_rate = np.sum(errors) / len(errors)\n",
    "print(\"error rate:\", er_rate)"
   ]
  },
  {
   "cell_type": "markdown",
   "metadata": {},
   "source": [
    "*Campeones*, we made it, sklearn is no more mad at us.  \n",
    "Did we get any interesting? Are we learning something at all?"
   ]
  },
  {
   "cell_type": "code",
   "execution_count": null,
   "metadata": {
    "code_folding": [],
    "collapsed": true
   },
   "outputs": [],
   "source": []
  },
  {
   "cell_type": "markdown",
   "metadata": {},
   "source": [
    "### Lesson learned: some data are more svm-able than others  \n",
    "Indeed, "
   ]
  },
  {
   "cell_type": "markdown",
   "metadata": {},
   "source": [
    "Let us move to more serious matters."
   ]
  },
  {
   "cell_type": "markdown",
   "metadata": {},
   "source": [
    "## <a id=\"subsec22\"></a> 2.2 Back to basics"
   ]
  },
  {
   "cell_type": "markdown",
   "metadata": {},
   "source": [
    "TODO: text about toy example"
   ]
  },
  {
   "cell_type": "code",
   "execution_count": 66,
   "metadata": {},
   "outputs": [
    {
     "data": {
      "image/png": "[encoded data removed]",
      "text/plain": [
       "<Figure size 432x288 with 1 Axes>"
      ]
     },
     "metadata": {},
     "output_type": "display_data"
    },
    {
     "data": {
      "image/png": "[encoded data removed]",
      "text/plain": [
       "<Figure size 432x288 with 1 Axes>"
      ]
     },
     "metadata": {},
     "output_type": "display_data"
    }
   ],
   "source": [
    "NPOINTS = 100\n",
    "COLORS  = ['pink', \"green\"]\n",
    "\n",
    "x = np.random.rand(NPOINTS)\n",
    "y = np.ones(NPOINTS, dtype=int)\n",
    "for i in range(NPOINTS):\n",
    "    if x[i] < 0.0666 or x[i] > 0.666:\n",
    "        y[i] = -1\n",
    "        \n",
    "plt.scatter(x[y==-1], np.zeros(len(x[y==-1])), color=COLORS[0])\n",
    "plt.scatter(x[y== 1], np.zeros(len(x[y==1])), color=COLORS[1])\n",
    "plt.xlabel('x');plt.ylabel('y')\n",
    "plt.show()\n",
    "\n",
    "\n",
    "a, b, c = 1, -.75, 1\n",
    "feature = a*x**2 + b*x + c\n",
    "\n",
    "colors = ['pink', \"green\"]\n",
    "\n",
    "plt.scatter(x[y==-1], feature[y==-1], color=COLORS[0])\n",
    "plt.scatter(x[y== 1], feature[y== 1], color=COLORS[1])\n",
    "plt.xlabel('x')\n",
    "plt.ylabel('K(x)')\n",
    "\n",
    "height = 0.90\n",
    "plt.plot([0,1], [height, height], color='red')\n",
    "height = 0.95\n",
    "plt.plot([0,1], [height, height], color='blue')\n",
    "height = 1.00\n",
    "plt.plot([0,1], [height, height], color='orange')\n",
    "\n",
    "plt.show()\n"
   ]
  },
  {
   "cell_type": "markdown",
   "metadata": {},
   "source": [
    "TODO: conclusion"
   ]
  },
  {
   "cell_type": "markdown",
   "metadata": {},
   "source": [
    "## <a id=\"subsec23\"></a> 2.3 Kernels"
   ]
  },
  {
   "cell_type": "markdown",
   "metadata": {},
   "source": [
    "Now let's play with the kernels in scikit-learn. As before, we are going to use the sklearn.svm.SVC class in order to fit SVMs to some data models. The 'kernel' attribute of the class allows you to use different kernels for the used models.\n",
    "\n",
    "Below are several data sets.\n",
    "\n",
    "Click [here](http://scikit-learn.org/stable/modules/generated/sklearn.svm.SVC.html#sklearn.svm.SVC) for the documentation."
   ]
  },
  {
   "cell_type": "markdown",
   "metadata": {},
   "source": [
    "<div class=\"alert alert-warning\">**Question 2.3.1**<br>\n",
    "Find a good kernel for each one of the data set below and provide a measure of the accuracy.\n",
    "</div>"
   ]
  },
  {
   "cell_type": "code",
   "execution_count": 172,
   "metadata": {},
   "outputs": [
    {
     "data": {
      "image/png": "[encoded data removed]",
      "text/plain": [
       "<Figure size 800x800 with 1 Axes>"
      ]
     },
     "metadata": {},
     "output_type": "display_data"
    }
   ],
   "source": [
    "import csv\n",
    "import numpy as np\n",
    "\n",
    "def to_csv(name, mode, data):\n",
    "    with open(name, mode) as csvfile:\n",
    "        w = csv.writer(csvfile, delimiter=',', quotechar='|', quoting=csv.QUOTE_MINIMAL)\n",
    "        for d in data:\n",
    "            w.writerow(d)\n",
    "            \n",
    "def gen_gauss(m, v, lab, nb):\n",
    "    d = []\n",
    "    for i in range(nb):\n",
    "        d.append(np.concatenate((np.random.normal(loc=m, scale=v, size=2),[lab]),axis=0))\n",
    "    return d\n",
    "    \n",
    "name = 'data2.csv'\n",
    "\n",
    "\n",
    "n = 1000\n",
    "\n",
    "d = gen_gauss([0, 0], 0.75, +1, n)\n",
    "delete = []\n",
    "for i in range(len(d)):\n",
    "    if (d[i][0]**2 + d[i][1]**2 < 1):\n",
    "        delete.append(i)\n",
    "d = np.delete(d, delete, axis=0)\n",
    "to_csv(name, 'w', d)\n",
    "\n",
    "\n",
    "d = gen_gauss([0, 0], 0.75, -1, n)\n",
    "delete = []\n",
    "for i in range(len(d)):\n",
    "    if (d[i][0]**2 + d[i][1]**2 > 1):\n",
    "        delete.append(i)\n",
    "d = np.delete(d, delete, axis=0)\n",
    "to_csv(name, 'a', d)\n",
    "\n",
    "\n",
    "\n",
    "\n",
    "\n",
    "\n",
    "\n",
    "plot_data(\"data2.csv\")"
   ]
  },
  {
   "cell_type": "markdown",
   "metadata": {},
   "source": [
    "# <a id=\"sec3\"></a> 3. Application"
   ]
  }
 ],
 "metadata": {
  "kernelspec": {
   "display_name": "Python 3",
   "language": "python",
   "name": "python3"
  },
  "language_info": {
   "codemirror_mode": {
    "name": "ipython",
    "version": 3
   },
   "file_extension": ".py",
   "mimetype": "text/x-python",
   "name": "python",
   "nbconvert_exporter": "python",
   "pygments_lexer": "ipython3",
   "version": "3.6.3"
  }
 },
 "nbformat": 4,
 "nbformat_minor": 2
}
